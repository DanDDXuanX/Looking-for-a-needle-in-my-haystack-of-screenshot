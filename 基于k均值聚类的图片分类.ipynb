{
 "cells": [
  {
   "cell_type": "code",
   "execution_count": 1,
   "metadata": {
    "collapsed": true
   },
   "outputs": [],
   "source": [
    "import os\n",
    "from PIL import Image as img \n",
    "import numpy as np"
   ]
  },
  {
   "cell_type": "code",
   "execution_count": 4,
   "metadata": {
    "collapsed": true
   },
   "outputs": [],
   "source": [
    "import pandas as pd"
   ]
  },
  {
   "cell_type": "code",
   "execution_count": 14,
   "metadata": {
    "collapsed": true
   },
   "outputs": [],
   "source": [
    "path=r'F:\\手机文件备份\\search'\n",
    "filename_list=os.listdir(path)"
   ]
  },
  {
   "cell_type": "code",
   "execution_count": 37,
   "metadata": {
    "scrolled": true
   },
   "outputs": [
    {
     "name": "stdout",
     "output_type": "stream",
     "text": [
      "100/2742\n",
      "200/2742\n",
      "300/2742\n",
      "400/2742\n",
      "500/2742\n",
      "600/2742\n",
      "700/2742\n",
      "800/2742\n",
      "900/2742\n",
      "1000/2742\n",
      "1100/2742\n",
      "1200/2742\n",
      "1300/2742\n",
      "1400/2742\n",
      "1500/2742\n",
      "1600/2742\n",
      "1700/2742\n",
      "1800/2742\n",
      "1900/2742\n",
      "2000/2742\n",
      "2100/2742\n",
      "2200/2742\n",
      "2300/2742\n",
      "2400/2742\n",
      "2500/2742\n",
      "2600/2742\n",
      "2700/2742\n"
     ]
    }
   ],
   "source": [
    "profile=pd.DataFrame(None,columns=range(0,1800),dtype=np.int8)\n",
    "\n",
    "i=0\n",
    "len_=len(filename_list)\n",
    "for fname in filename_list:\n",
    "    fpath=path+'\\\\'+fname\n",
    "    i+=1\n",
    "    if i%100==0:\n",
    "        print('%d/%d'%(i,len_))\n",
    "    file_this=img.open(fpath)\n",
    "    file_this=file_this.resize((20,30))\n",
    "    profile.loc[fname]=np.asarray(file_this)[:,:,0:3].flatten()"
   ]
  },
  {
   "cell_type": "code",
   "execution_count": 39,
   "metadata": {},
   "outputs": [],
   "source": [
    "profile.to_pickle(r'F:\\手机文件备份\\search\\profile.pickle')"
   ]
  },
  {
   "cell_type": "code",
   "execution_count": 68,
   "metadata": {},
   "outputs": [],
   "source": [
    "import shutil"
   ]
  },
  {
   "cell_type": "markdown",
   "metadata": {},
   "source": [
    "# PCA"
   ]
  },
  {
   "cell_type": "code",
   "execution_count": 52,
   "metadata": {
    "collapsed": true
   },
   "outputs": [],
   "source": [
    "from sklearn.decomposition import PCA\n",
    "import matplotlib.pyplot as plt\n",
    "from sklearn.cluster import KMeans"
   ]
  },
  {
   "cell_type": "code",
   "execution_count": 81,
   "metadata": {
    "collapsed": true
   },
   "outputs": [],
   "source": [
    "pca_2d=PCA(n_components=2)\n",
    "pca_2d.fit(profile.values)\n",
    "pca_2d_list=pd.DataFrame(pca_2d.transform(profile.values),index=profile.index,columns=['x','y'])"
   ]
  },
  {
   "cell_type": "markdown",
   "metadata": {},
   "source": [
    "# T-SNE"
   ]
  },
  {
   "cell_type": "code",
   "execution_count": 103,
   "metadata": {
    "collapsed": true
   },
   "outputs": [],
   "source": [
    "from sklearn.manifold import TSNE"
   ]
  },
  {
   "cell_type": "code",
   "execution_count": 104,
   "metadata": {
    "collapsed": true
   },
   "outputs": [],
   "source": [
    "t_SNE = TSNE(n_components=2)\n",
    "t_SNE.fit_transform(profile.values)\n",
    "tsne_2d_list=t_SNE.embedding_"
   ]
  },
  {
   "cell_type": "code",
   "execution_count": 107,
   "metadata": {},
   "outputs": [],
   "source": [
    "pca_2d_list=pd.DataFrame(tsne_2d_list,index=profile.index,columns=['x','y'])"
   ]
  },
  {
   "cell_type": "markdown",
   "metadata": {},
   "source": [
    "# 聚类"
   ]
  },
  {
   "cell_type": "code",
   "execution_count": 83,
   "metadata": {
    "collapsed": true
   },
   "outputs": [],
   "source": [
    "n_cluster=20"
   ]
  },
  {
   "cell_type": "code",
   "execution_count": 109,
   "metadata": {
    "collapsed": true
   },
   "outputs": [],
   "source": [
    "kmean=KMeans(n_clusters=n_cluster, random_state=10).fit(profile.values)\n",
    "pca_2d_list['cluster']=kmean.labels_"
   ]
  },
  {
   "cell_type": "markdown",
   "metadata": {},
   "source": [
    "# 配色"
   ]
  },
  {
   "cell_type": "code",
   "execution_count": 111,
   "metadata": {},
   "outputs": [],
   "source": [
    "import My_colors as clr\n",
    "CLR={}\n",
    "i=0\n",
    "color_number=n_cluster\n",
    "for i in range(0,n_cluster):\n",
    "    if i<color_number:\n",
    "        CLR[i]=[clr.chromatography(i/color_number),40,0.7]\n",
    "    else:\n",
    "        CLR[i]=[(0,0,0),n_cluster,0.1]\n",
    "    i+=1"
   ]
  },
  {
   "cell_type": "markdown",
   "metadata": {},
   "source": [
    "# 绘图"
   ]
  },
  {
   "cell_type": "code",
   "execution_count": 113,
   "metadata": {},
   "outputs": [],
   "source": [
    "plt.figure(figsize=(40, 40),facecolor='gray',edgecolor='black')#整个图为对象的设置\n",
    "plt.axes(facecolor='black')#坐标轴内的设置\n",
    "plt.grid() #网格\n",
    "for i in range(0,n_cluster):\n",
    "    plt.scatter(pca_2d_list[pca_2d_list['cluster']==i]['x'], pca_2d_list[pca_2d_list['cluster']==i]['y'], \n",
    "                   alpha=CLR[i][2],\n",
    "                   s=CLR[i][1],\n",
    "                   color=CLR[i][0])\n",
    "    plt.text(np.median(pca_2d_list[pca_2d_list['cluster']==i]['x']),\n",
    "             np.median(pca_2d_list[pca_2d_list['cluster']==i]['y']),\n",
    "             str(i),color=CLR[i][0],alpha=0.8,fontsize=50)\n",
    "plt.savefig(r'F:\\手机文件备份\\plt.png')"
   ]
  },
  {
   "cell_type": "markdown",
   "metadata": {},
   "source": [
    "# 按照聚类获取文件名并分类复制"
   ]
  },
  {
   "cell_type": "code",
   "execution_count": 87,
   "metadata": {},
   "outputs": [],
   "source": [
    "cluster_list={}\n",
    "for i in range(0,n_cluster):\n",
    "    cluster_list[i]=list(pca_2d_list[pca_2d_list['cluster']==i].index)"
   ]
  },
  {
   "cell_type": "code",
   "execution_count": 116,
   "metadata": {
    "collapsed": true
   },
   "outputs": [],
   "source": [
    "dist_path='F:\\\\手机文件备份\\\\分类'"
   ]
  },
  {
   "cell_type": "code",
   "execution_count": 124,
   "metadata": {},
   "outputs": [
    {
     "name": "stdout",
     "output_type": "stream",
     "text": [
      "0\n",
      "1\n",
      "2\n",
      "3\n",
      "4\n",
      "5\n",
      "6\n",
      "7\n",
      "8\n",
      "9\n",
      "10\n",
      "11\n",
      "12\n",
      "13\n",
      "14\n",
      "15\n",
      "16\n",
      "17\n",
      "18\n",
      "19\n"
     ]
    }
   ],
   "source": [
    "if os.path.exists(dist_path)==0:\n",
    "    for i in range(0,n_cluster):\n",
    "        os.makedirs(dist_path+'\\\\'+str(i))\n",
    "        for fname in cluster_list[i]:\n",
    "            shutil.copy(path+'\\\\'+fname,dist_path+'\\\\'+str(i))\n",
    "        print(i)\n",
    "else:\n",
    "    print('error')"
   ]
  }
 ],
 "metadata": {
  "kernelspec": {
   "display_name": "Python 3",
   "language": "python",
   "name": "python3"
  },
  "language_info": {
   "codemirror_mode": {
    "name": "ipython",
    "version": 3
   },
   "file_extension": ".py",
   "mimetype": "text/x-python",
   "name": "python",
   "nbconvert_exporter": "python",
   "pygments_lexer": "ipython3",
   "version": "3.6.2"
  }
 },
 "nbformat": 4,
 "nbformat_minor": 2
}
